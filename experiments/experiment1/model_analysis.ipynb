{
 "cells": [
  {
   "cell_type": "code",
   "execution_count": 1,
   "metadata": {},
   "outputs": [
    {
     "name": "stderr",
     "output_type": "stream",
     "text": [
      "WARNING (theano.tensor.blas): Using NumPy C-API based implementation for BLAS functions.\n"
     ]
    }
   ],
   "source": [
    "import sys\n",
    "import scipy.stats as ss\n",
    "import numpy as np\n",
    "\n",
    "import matplotlib.pyplot as plt\n",
    "%matplotlib inline\n",
    "\n",
    "import pickle\n",
    "import itertools\n",
    "from tqdm import tqdm\n",
    "import warnings\n",
    "import networkx\n",
    "\n",
    "# append path to gempy repository and import\n",
    "sys.path.append(\"C:/Users/r02as18/git/gempy/\")\n",
    "import gempy as gp\n",
    "\n",
    "from copy import deepcopy, copy\n",
    "\n",
    "sys.path.append(\"C:/Users/r02as18/git/plothelper/\")\n",
    "import plothelper as ph"
   ]
  },
  {
   "cell_type": "code",
   "execution_count": 2,
   "metadata": {},
   "outputs": [],
   "source": [
    "geo_data = gp.create_data([0,2000,0,2000,0,2000],\n",
    "                          [50,50,50],\n",
    "                          path_o = \"../input_data/simple_fault_model_orientations.csv\", # importing orientation (foliation) data\n",
    "                          path_i = \"../input_data/simple_fault_model_points.csv\") # importing point-positional interface data\n",
    "\n",
    "gp.set_series(geo_data, {\"Fault_Series\":'Main_Fault',\n",
    "                         \"Strat_Series\": ('Sandstone_2','Siltstone', 'Shale', 'Sandstone_1')},\n",
    "                          order_series = [\"Fault_Series\", 'Strat_Series'],\n",
    "                          order_formations=['Main_Fault',\n",
    "                                            'Sandstone_2','Siltstone', 'Shale', 'Sandstone_1'], verbose=0)"
   ]
  },
  {
   "cell_type": "code",
   "execution_count": 3,
   "metadata": {},
   "outputs": [
    {
     "name": "stdout",
     "output_type": "stream",
     "text": [
      "Compiling theano function...\n",
      "Compilation Done!\n",
      "Level of Optimization:  fast_run\n",
      "Device:  cpu\n",
      "Precision:  float32\n",
      "Number of faults:  1\n"
     ]
    }
   ],
   "source": [
    "interp_data = gp.InterpolatorData(geo_data, u_grade=[1,1], output='geology', \n",
    "                                  compile_theano=True, theano_optimizer='fast_run')\n",
    "\n",
    "# make copy of interp_data data for reset after stochastic modifcations\n",
    "geo_data_res_stoch = deepcopy(interp_data.geo_data_res)"
   ]
  },
  {
   "cell_type": "code",
   "execution_count": 6,
   "metadata": {},
   "outputs": [
    {
     "ename": "AttributeError",
     "evalue": "Can't get attribute 'ABCrej' on <module '__main__'>",
     "output_type": "error",
     "traceback": [
      "\u001b[1;31m---------------------------------------------------------------------------\u001b[0m",
      "\u001b[1;31mAttributeError\u001b[0m                            Traceback (most recent call last)",
      "\u001b[1;32m<ipython-input-6-d12225d2593b>\u001b[0m in \u001b[0;36m<module>\u001b[1;34m()\u001b[0m\n\u001b[1;32m----> 1\u001b[1;33m \u001b[0mmodel_fw\u001b[0m \u001b[1;33m=\u001b[0m \u001b[0mpickle\u001b[0m\u001b[1;33m.\u001b[0m\u001b[0mload\u001b[0m\u001b[1;33m(\u001b[0m\u001b[0mopen\u001b[0m\u001b[1;33m(\u001b[0m\u001b[1;34m\"simulations/2018-07-25_ABCrej_e0.p\"\u001b[0m\u001b[1;33m,\u001b[0m \u001b[1;34m\"rb\"\u001b[0m\u001b[1;33m)\u001b[0m\u001b[1;33m)\u001b[0m\u001b[1;33m\u001b[0m\u001b[0m\n\u001b[0m\u001b[0;32m      2\u001b[0m \u001b[0mmodel_abc\u001b[0m \u001b[1;33m=\u001b[0m \u001b[0mpickle\u001b[0m\u001b[1;33m.\u001b[0m\u001b[0mload\u001b[0m\u001b[1;33m(\u001b[0m\u001b[0mopen\u001b[0m\u001b[1;33m(\u001b[0m\u001b[1;34m\"simulations/2018-07-25_forward.p\"\u001b[0m\u001b[1;33m,\u001b[0m \u001b[1;34m\"rb\"\u001b[0m\u001b[1;33m)\u001b[0m\u001b[1;33m)\u001b[0m\u001b[1;33m\u001b[0m\u001b[0m\n",
      "\u001b[1;31mAttributeError\u001b[0m: Can't get attribute 'ABCrej' on <module '__main__'>"
     ]
    }
   ],
   "source": [
    "model_fw = pickle.load(open(\"simulations/2018-07-25_ABCrej_e0.p\", \"rb\"))\n",
    "model_abc = pickle.load(open(\"simulations/2018-07-25_forward.p\", \"rb\"))"
   ]
  },
  {
   "cell_type": "code",
   "execution_count": 14,
   "metadata": {},
   "outputs": [
    {
     "data": {
      "text/plain": [
       "dict_keys(['graphs', 'centroids', 'jaccards', 'lots', 'prior_samples', 'acc_ratio', 'gempy_data'])"
      ]
     },
     "execution_count": 14,
     "metadata": {},
     "output_type": "execute_result"
    }
   ],
   "source": [
    "model.keys()"
   ]
  },
  {
   "cell_type": "code",
   "execution_count": 7,
   "metadata": {},
   "outputs": [],
   "source": [
    "model = model_fw"
   ]
  },
  {
   "cell_type": "code",
   "execution_count": 10,
   "metadata": {},
   "outputs": [
    {
     "data": {
      "text/plain": [
       "dict_keys(['graphs', 'centroids', 'jaccards', 'lots', 'prior_samples', 'acc_ratio', 'gempy_data'])"
      ]
     },
     "execution_count": 10,
     "metadata": {},
     "output_type": "execute_result"
    }
   ],
   "source": [
    "model_fw.keys()"
   ]
  },
  {
   "cell_type": "code",
   "execution_count": 8,
   "metadata": {},
   "outputs": [
    {
     "ename": "AttributeError",
     "evalue": "'dict' object has no attribute 'lbs'",
     "output_type": "error",
     "traceback": [
      "\u001b[1;31m---------------------------------------------------------------------------\u001b[0m",
      "\u001b[1;31mAttributeError\u001b[0m                            Traceback (most recent call last)",
      "\u001b[1;32m<ipython-input-8-477430164720>\u001b[0m in \u001b[0;36m<module>\u001b[1;34m()\u001b[0m\n\u001b[0;32m      3\u001b[0m \u001b[1;33m\u001b[0m\u001b[0m\n\u001b[0;32m      4\u001b[0m \u001b[0mnp\u001b[0m\u001b[1;33m.\u001b[0m\u001b[0mrandom\u001b[0m\u001b[1;33m.\u001b[0m\u001b[0mseed\u001b[0m\u001b[1;33m(\u001b[0m\u001b[1;36m3\u001b[0m\u001b[1;33m)\u001b[0m \u001b[1;31m# 3\u001b[0m\u001b[1;33m\u001b[0m\u001b[0m\n\u001b[1;32m----> 5\u001b[1;33m \u001b[0miters\u001b[0m \u001b[1;33m=\u001b[0m \u001b[0mnp\u001b[0m\u001b[1;33m.\u001b[0m\u001b[0mrandom\u001b[0m\u001b[1;33m.\u001b[0m\u001b[0mchoice\u001b[0m\u001b[1;33m(\u001b[0m\u001b[0mlen\u001b[0m\u001b[1;33m(\u001b[0m\u001b[0mmodel\u001b[0m\u001b[1;33m.\u001b[0m\u001b[0mlbs\u001b[0m\u001b[1;33m)\u001b[0m\u001b[1;33m,\u001b[0m \u001b[0msize\u001b[0m\u001b[1;33m=\u001b[0m\u001b[1;36m3\u001b[0m\u001b[1;33m*\u001b[0m\u001b[1;36m5\u001b[0m\u001b[1;33m)\u001b[0m\u001b[1;33m\u001b[0m\u001b[0m\n\u001b[0m\u001b[0;32m      6\u001b[0m \u001b[1;33m\u001b[0m\u001b[0m\n\u001b[0;32m      7\u001b[0m \u001b[1;32mfor\u001b[0m \u001b[0max\u001b[0m\u001b[1;33m,\u001b[0m \u001b[0mi\u001b[0m \u001b[1;32min\u001b[0m \u001b[0mzip\u001b[0m\u001b[1;33m(\u001b[0m\u001b[0maxes\u001b[0m\u001b[1;33m.\u001b[0m\u001b[0mflatten\u001b[0m\u001b[1;33m(\u001b[0m\u001b[1;33m)\u001b[0m\u001b[1;33m,\u001b[0m \u001b[0miters\u001b[0m\u001b[1;33m)\u001b[0m\u001b[1;33m:\u001b[0m\u001b[1;33m\u001b[0m\u001b[0m\n",
      "\u001b[1;31mAttributeError\u001b[0m: 'dict' object has no attribute 'lbs'"
     ]
    },
    {
     "data": {
      "image/png": "[encoded data removed]",
      "text/plain": [
       "<Figure size 1040.1x642.817 with 15 Axes>"
      ]
     },
     "metadata": {},
     "output_type": "display_data"
    }
   ],
   "source": [
    "fig, axes = plt.subplots(ncols=5, nrows=3, figsize=ph.get_figsize(2), sharex=True, sharey=True)\n",
    "nxkwargs = {\"node_color\": \"black\", \"alpha\": 0.5, \"font_color\": \"white\"}\n",
    "\n",
    "np.random.seed(3) # 3\n",
    "iters = np.random.choice(len(model.lbs), size=3*5)\n",
    "\n",
    "for ax, i in zip(axes.flatten(), iters):\n",
    "    \n",
    "#     try:\n",
    "#         ax.imshow(model.lbs[i][0].reshape(nx,nz).T, origin=\"lower\", cmap=gp.plotting.colors.cmap, norm=gp.plotting.colors.norm)\n",
    "#     except:\n",
    "    ax.imshow(model.lbs[i][0].reshape(*geo_data.resolution)[:,12,:].T, origin=\"lower\", cmap=gp.plotting.colors.cmap, norm=gp.plotting.colors.norm)\n",
    "    networkx.draw_networkx(model.graphs[i], centroids_2d[i], ax=ax, **nxkwargs)\n",
    "    \n",
    "    ax.text(1,45, \"Iter: {} \".format(i) + \" J: {0:.2f}\".format(model.jaccards[i]), color=\"#ffbcbc\")\n",
    "    \n",
    "    #ax.set_xlim(0,49)\n",
    "    #ax.set_ylim(0,49)\n",
    "\n",
    "plt.tight_layout()"
   ]
  },
  {
   "cell_type": "code",
   "execution_count": null,
   "metadata": {},
   "outputs": [],
   "source": []
  }
 ],
 "metadata": {
  "kernelspec": {
   "display_name": "Python [conda root]",
   "language": "python",
   "name": "conda-root-py"
  },
  "language_info": {
   "codemirror_mode": {
    "name": "ipython",
    "version": 3
   },
   "file_extension": ".py",
   "mimetype": "text/x-python",
   "name": "python",
   "nbconvert_exporter": "python",
   "pygments_lexer": "ipython3",
   "version": "3.6.5"
  }
 },
 "nbformat": 4,
 "nbformat_minor": 2
}
