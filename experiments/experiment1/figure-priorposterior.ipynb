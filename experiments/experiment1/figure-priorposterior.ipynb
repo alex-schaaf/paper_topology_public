{
 "cells": [
  {
   "cell_type": "code",
   "execution_count": 1,
   "metadata": {
    "pycharm": {
     "is_executing": false
    }
   },
   "outputs": [],
   "source": [
    "import sys\n",
    "import scipy.stats as ss\n",
    "import numpy as np\n",
    "\n",
    "import matplotlib.pyplot as plt\n",
    "%matplotlib inline\n",
    "\n",
    "import pickle\n",
    "import itertools\n",
    "from tqdm import tqdm\n",
    "import warnings\n",
    "import networkx"
   ]
  },
  {
   "cell_type": "code",
   "execution_count": 2,
   "metadata": {
    "pycharm": {
     "is_executing": false
    }
   },
   "outputs": [
    {
     "traceback": [
      "\u001b[1;31m---------------------------------------------------------------------------\u001b[0m",
      "\u001b[1;31mModuleNotFoundError\u001b[0m                       Traceback (most recent call last)",
      "\u001b[1;32m<ipython-input-2-4dc04fff25b4>\u001b[0m in \u001b[0;36m<module>\u001b[1;34m\u001b[0m\n\u001b[0;32m      1\u001b[0m \u001b[1;33m\u001b[0m\u001b[0m\n\u001b[1;32m----> 2\u001b[1;33m \u001b[1;32mimport\u001b[0m \u001b[0mgempy\u001b[0m \u001b[1;32mas\u001b[0m \u001b[0mgp\u001b[0m\u001b[1;33m\u001b[0m\u001b[1;33m\u001b[0m\u001b[0m\n\u001b[0m\u001b[0;32m      3\u001b[0m \u001b[1;33m\u001b[0m\u001b[0m\n",
      "\u001b[1;31mModuleNotFoundError\u001b[0m: No module named 'gempy'"
     ],
     "ename": "ModuleNotFoundError",
     "evalue": "No module named 'gempy'",
     "output_type": "error"
    }
   ],
   "source": [
    "import gempy as gp"
   ]
  },
  {
   "cell_type": "code",
   "execution_count": 2,
   "metadata": {
    "pycharm": {
     "is_executing": false
    }
   },
   "outputs": [],
   "source": [
    "from pathlib import Path\n",
    "fp = Path(\"./data/abc/\")"
   ]
  },
  {
   "cell_type": "raw",
   "metadata": {},
   "source": [
    "# append path to gempy repository and import\n",
    "import gempy as gp\n",
    "\n",
    "from copy import deepcopy, copy\n",
    "\n",
    "sys.path.append(\"../../../toolbox/\")\n",
    "import toolbox as tb\n",
    "\n",
    "from abcrej import ABCrej"
   ]
  },
  {
   "cell_type": "raw",
   "metadata": {},
   "source": [
    "from abcrej import ABCrej"
   ]
  },
  {
   "cell_type": "raw",
   "metadata": {},
   "source": [
    "model_abc = pickle.load(open(\"simulations/2018-07-25_ABCrej_e0.p\", \"rb\"))\n",
    "model_fw = pickle.load(open(\"simulations/2018-07-25_forward.p\", \"rb\"))\n",
    "\n",
    "for key in model_abc.__dict__.keys():\n",
    "    try:\n",
    "        with open(fb / f\"{key}.p\", \"wb\") as f:\n",
    "            pickle.dump(model_abc.__dict__[key], f)\n",
    "    except:\n",
    "        pass"
   ]
  },
  {
   "cell_type": "raw",
   "metadata": {},
   "source": [
    "model_abc.__dict__.keys()"
   ]
  },
  {
   "cell_type": "code",
   "execution_count": 3,
   "metadata": {
    "pycharm": {
     "is_executing": false
    }
   },
   "outputs": [],
   "source": [
    "with open(fp / \"priors.p\", \"rb\") as f:\n",
    "    priors = pickle.load(f)\n",
    "    \n",
    "with open(fp / \"traces.p\", \"rb\") as f:\n",
    "    posteriors = pickle.load(f)"
   ]
  },
  {
   "cell_type": "code",
   "execution_count": 4,
   "metadata": {
    "pycharm": {
     "is_executing": false
    }
   },
   "outputs": [],
   "source": [
    "color_kwargs = {\n",
    "    \"Sandstone_2_Z\": \"#EF5350\",\n",
    "    \"Siltstone_Z\": \"#FFDF50\",\n",
    "    \"Shale_Z\": \"#66BB6A\",\n",
    "    \"Sandstone_1_Z\": \"#8D6E63\",\n",
    "    \"Main_Fault_X\": \"steelblue\",\n",
    "    \"Main_Fault_Z\": \"steelblue\"\n",
    "}"
   ]
  },
  {
   "cell_type": "code",
   "execution_count": 5,
   "metadata": {
    "pycharm": {
     "is_executing": false
    }
   },
   "outputs": [],
   "source": [
    "import scipy.stats\n",
    "sys.path.append(\"../../../toolbox/\")\n",
    "from toolbox import plot as ph"
   ]
  },
  {
   "cell_type": "code",
   "execution_count": 7,
   "metadata": {
    "pycharm": {
     "is_executing": false
    }
   },
   "outputs": [
    {
     "data": {
      "text/plain": "<Figure size 501.732x175.606 with 6 Axes>",
      "image/png": "[encoded data removed]"
     },
     "metadata": {
      "needs_background": "light"
     },
     "output_type": "display_data"
    }
   ],
   "source": [
    "hist_kwargs = dict(bins=12, density=True)\n",
    "\n",
    "\n",
    "font_size = 6\n",
    "with plt.rc_context(ph.get_rcparams(font_size)):\n",
    "    x = np.linspace(-300, 300, 500)\n",
    "    fig, axes = plt.subplots(\n",
    "        nrows=2, ncols=3, sharex=True, sharey=True, \n",
    "        figsize=ph.get_figsize(1, textwidth=503.61377, ratio=0.35)\n",
    "    ) \n",
    "    for i, (ax, (name, posterior)) in enumerate(zip(axes.flat, posteriors.items())):\n",
    "#         ax.text(-290, 0.0106, name, fontsize=font_size)\n",
    "\n",
    "\n",
    "        y = priors[i].pdf(x)\n",
    "#         ax.plot(x, y, color=\"lightgrey\", linewidth=1)\n",
    "        ax.fill_between(x, y, color=\"lightgrey\", alpha=1, label=\"Prior\")\n",
    "\n",
    "        rf = 3500\n",
    "        post_kde = scipy.stats.gaussian_kde(posterior * rf)\n",
    "        ypost = post_kde.pdf(x)\n",
    "        \n",
    "        # ax.plot(\n",
    "        #     x, ypost,\n",
    "        #     color=color_kwargs[name],\n",
    "        #     linewidth=1\n",
    "        # )\n",
    "        label = name\n",
    "        label = label.replace(\"_\", \" \")\n",
    "        \n",
    "        ax.fill_between(\n",
    "            x, ypost, color=color_kwargs[name], alpha=0.5, linewidth=0,\n",
    "            label=label)\n",
    "        \n",
    "        mean = np.mean(posterior * rf)\n",
    "        std = np.std(posterior * rf)\n",
    "#         ax.text(mean, 0.01, f\"μ {mean:.01f}\")\n",
    "#         ax.axvline(mean, linewidth=0.75, color=\"white\", linestyle=\"solid\")\n",
    "#         ax.axvline(mean - std, linewidth=0.75, color=\"white\", linestyle=\"solid\")\n",
    "#         ax.axvline(mean + std, linewidth=0.75, color=\"white\", linestyle=\"solid\")\n",
    "        legend = ax.legend(prop={\"size\": font_size - 1}, loc=\"upper left\")\n",
    "        legend.get_frame().set_edgecolor(\"none\")\n",
    "        \n",
    "\n",
    "#         ax.hist(posterior * rf, color=color_kwargs[name], **hist_kwargs)\n",
    "\n",
    "        ax.set_xlim(-300, 300)\n",
    "        ax.set_ylim(0, 0.0115)\n",
    "        ax.set_yticks([0, 0.0065, 0.0115])\n",
    "        ax.set_xticks([-300, 0, 300])\n",
    "\n",
    "        ax.spines['top'].set_visible(False)\n",
    "        ax.spines['right'].set_visible(False)\n",
    "        ax.xaxis.set_ticks_position('none') \n",
    "        ax.yaxis.set_ticks_position('none')\n",
    "        for axis in ['top','bottom','left','right']:\n",
    "              ax.spines[axis].set_linewidth(0.5)\n",
    "\n",
    "    axes[1,0].set_xlabel(\"Shift [m]\")\n",
    "    axes[1,1].set_xlabel(\"Shift [m]\")\n",
    "    axes[1,2].set_xlabel(\"Shift [m]\")\n",
    "    axes[0,0].set_ylabel(\"Density\")\n",
    "    axes[1,0].set_ylabel(\"Density\")\n",
    "    \n",
    "    \n",
    "\n",
    "    plt.savefig(\"../../paper/figures/exp1_distplot2.pdf\", bbox_inches='tight', dpi=300)"
   ]
  },
  {
   "cell_type": "code",
   "execution_count": 101,
   "metadata": {},
   "outputs": [
    {
     "data": {
      "text/plain": [
       "[7.222914072229141, 4.478206724782067]"
      ]
     },
     "execution_count": 101,
     "metadata": {},
     "output_type": "execute_result"
    }
   ],
   "source": []
  },
  {
   "cell_type": "code",
   "execution_count": null,
   "metadata": {},
   "outputs": [],
   "source": []
  },
  {
   "cell_type": "code",
   "execution_count": null,
   "metadata": {},
   "outputs": [],
   "source": []
  },
  {
   "cell_type": "code",
   "execution_count": null,
   "metadata": {},
   "outputs": [],
   "source": []
  },
  {
   "cell_type": "code",
   "execution_count": null,
   "metadata": {},
   "outputs": [],
   "source": []
  }
 ],
 "metadata": {
  "kernelspec": {
   "name": "conda-env-topology-py",
   "language": "python",
   "display_name": "Python [conda env:topology] *"
  },
  "language_info": {
   "codemirror_mode": {
    "name": "ipython",
    "version": 3
   },
   "file_extension": ".py",
   "mimetype": "text/x-python",
   "name": "python",
   "nbconvert_exporter": "python",
   "pygments_lexer": "ipython3",
   "version": "3.7.3"
  },
  "pycharm": {
   "stem_cell": {
    "cell_type": "raw",
    "source": [],
    "metadata": {
     "collapsed": false
    }
   }
  }
 },
 "nbformat": 4,
 "nbformat_minor": 2
}