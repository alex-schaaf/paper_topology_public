{
 "cells": [
  {
   "cell_type": "code",
   "execution_count": 125,
   "metadata": {},
   "outputs": [
    {
     "name": "stderr",
     "output_type": "stream",
     "text": [
      "../../../gempy\\gempy\\core\\data.py:1737: UserWarning: If pole_vector and orientation are passed pole_vector is used/\n",
      "  warnings.warn('If pole_vector and orientation are passed pole_vector is used/')\n"
     ]
    }
   ],
   "source": [
    "import numpy as np\n",
    "import matplotlib.pyplot as plt\n",
    "%matplotlib inline\n",
    "\n",
    "import sys\n",
    "sys.path.append(\"../../\")\n",
    "import helpers\n",
    "\n",
    "from pathlib import Path\n",
    "from importlib import reload\n",
    "reload(helpers)\n",
    "\n",
    "sys.path.append(\"../../../gempy\")\n",
    "import gempy as gp\n",
    "from gempy.assets import topology as tp\n",
    "\n",
    "import os\n",
    "\n",
    "geo_model, edges_init, centroids_init = helpers.prepare_geomodel(resolution=(60,50,60))\n",
    "edges_init, centroids_init = tp.clean_unconformity_topology(geo_model, 1, edges_init, centroids_init)"
   ]
  },
  {
   "cell_type": "raw",
   "metadata": {},
   "source": [
    "gp.plot.plot_section(geo_model, 35)\n",
    "gp.plot.plot_topology(geo_model, edges_init, centroids_init)"
   ]
  },
  {
   "cell_type": "code",
   "execution_count": 146,
   "metadata": {},
   "outputs": [
    {
     "data": {
      "image/png": "[encoded data removed]",
      "text/plain": [
       "<Figure size 296.022x182.952 with 1 Axes>"
      ]
     },
     "metadata": {
      "needs_background": "light"
     },
     "output_type": "display_data"
    }
   ],
   "source": [
    "sys.path.append(\"../../../toolbox\")\n",
    "from toolbox import plot as ph\n",
    "import matplotlib.colors as mcolors\n",
    "\n",
    "lb = geo_model.solutions.lith_block.reshape(geo_model.grid.regular_grid.resolution)\n",
    "colors =['#ffbe00', '#527682', '#527682', '#ff3f20', '#443988', '#728f02', '#bdbdbd']\n",
    "\n",
    "\n",
    "cmap = mcolors.ListedColormap(colors)\n",
    "loc = 36\n",
    "font_size = 6\n",
    "extent = list(geo_model.grid.regular_grid.extent)\n",
    "linewidth = 0.5\n",
    "\n",
    "label_kwargs = dict(\n",
    "    size=5\n",
    ")\n",
    "\n",
    "edge_kwargs = dict(\n",
    "    linewidth=linewidth\n",
    ")\n",
    "\n",
    "with plt.rc_context(ph.get_rcparams(font_size)):\n",
    "    fig, ax = plt.subplots(figsize=ph.get_figsize(0.59, textwidth=503.61377, ratio=(5**.5 - 1) / 2))\n",
    "\n",
    "    ax.imshow(\n",
    "        lb[:, loc, :].T, origin=\"lower\", cmap=cmap, interpolation=\"nearest\", extent=extent[:2]+extent[4:]\n",
    "    )\n",
    "    gp.plot.plot_topology(\n",
    "        geo_model, edges_init, centroids_init, scale=True, label_kwargs=label_kwargs, edge_kwargs=edge_kwargs\n",
    "    )\n",
    "    \n",
    "    for axis in ['top', 'bottom', 'left', 'right']:\n",
    "        ax.spines[axis].set_linewidth(linewidth)\n",
    "        \n",
    "    ax.set_yticks(np.linspace(extent[4], extent[5], 3))\n",
    "    ax.set_yticklabels(np.linspace(extent[4] / 3, extent[5] / 3, 3).astype(int))\n",
    "    ax.set_xticks(np.linspace(extent[0], extent[1], 4))\n",
    "    \n",
    "    ax.set_xlabel(\"X\")\n",
    "    ax.set_ylabel(\"Depth [m]\")\n",
    "    \n",
    "    ax.set_title(f\"XZ-section with topology graph\", fontsize=font_size+2)\n",
    "    \n",
    "    plt.savefig(\"../../paper/figures/exp3_topo_section.pdf\", bbox_inches='tight', dpi=400)"
   ]
  },
  {
   "cell_type": "code",
   "execution_count": null,
   "metadata": {},
   "outputs": [],
   "source": []
  },
  {
   "cell_type": "code",
   "execution_count": null,
   "metadata": {},
   "outputs": [],
   "source": []
  },
  {
   "cell_type": "code",
   "execution_count": null,
   "metadata": {},
   "outputs": [],
   "source": []
  },
  {
   "cell_type": "code",
   "execution_count": null,
   "metadata": {},
   "outputs": [],
   "source": []
  },
  {
   "cell_type": "code",
   "execution_count": null,
   "metadata": {},
   "outputs": [],
   "source": []
  },
  {
   "cell_type": "code",
   "execution_count": null,
   "metadata": {},
   "outputs": [],
   "source": []
  },
  {
   "cell_type": "code",
   "execution_count": null,
   "metadata": {},
   "outputs": [],
   "source": []
  },
  {
   "cell_type": "code",
   "execution_count": null,
   "metadata": {},
   "outputs": [],
   "source": []
  },
  {
   "cell_type": "code",
   "execution_count": null,
   "metadata": {},
   "outputs": [],
   "source": []
  }
 ],
 "metadata": {
  "kernelspec": {
   "display_name": "Python [conda env:topology]",
   "language": "python",
   "name": "conda-env-topology-py"
  },
  "language_info": {
   "codemirror_mode": {
    "name": "ipython",
    "version": 3
   },
   "file_extension": ".py",
   "mimetype": "text/x-python",
   "name": "python",
   "nbconvert_exporter": "python",
   "pygments_lexer": "ipython3",
   "version": "3.7.3"
  }
 },
 "nbformat": 4,
 "nbformat_minor": 2
}
